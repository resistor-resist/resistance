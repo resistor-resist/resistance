{
  "nbformat": 4,
  "nbformat_minor": 0,
  "metadata": {
    "colab": {
      "name": "My_first_DOCbot",
      "provenance": [],
      "collapsed_sections": []
    },
    "kernelspec": {
      "name": "python3",
      "display_name": "Python 3"
    }
  },
  "cells": [
    {
      "cell_type": "code",
      "metadata": {
        "id": "4tkMHNqEPdv6",
        "colab_type": "code",
        "colab": {}
      },
      "source": [
        "#description:this is a 'self learning' chatbot program"
      ],
      "execution_count": 0,
      "outputs": []
    },
    {
      "cell_type": "code",
      "metadata": {
        "id": "-F9JuddWPrnD",
        "colab_type": "code",
        "colab": {}
      },
      "source": [
        "#install the package NLTk\n",
        "pip install nltk"
      ],
      "execution_count": 0,
      "outputs": []
    },
    {
      "cell_type": "code",
      "metadata": {
        "id": "cdlE_XCiPxr5",
        "colab_type": "code",
        "colab": {}
      },
      "source": [
        "#install the package newspaper3k\n",
        "pip install newspaper3k"
      ],
      "execution_count": 0,
      "outputs": []
    },
    {
      "cell_type": "code",
      "metadata": {
        "id": "TOd0WLJ4P6Uh",
        "colab_type": "code",
        "colab": {}
      },
      "source": [
        "#import some libraries\n",
        "from newspaper import Article\n",
        "import random\n",
        "import string\n",
        "from sklearn.feature_extraction.text import TfidfVectorizer\n",
        "from sklearn.metrics.pairwise import cosine_similarity\n",
        "import nltk\n",
        "import numpy as np\n",
        "import warnings"
      ],
      "execution_count": 0,
      "outputs": []
    },
    {
      "cell_type": "code",
      "metadata": {
        "id": "kESxBsubP_f3",
        "colab_type": "code",
        "colab": {}
      },
      "source": [
        "#ignore any warning messages\n",
        "warnings.filterwarnings('ignore')"
      ],
      "execution_count": 0,
      "outputs": []
    },
    {
      "cell_type": "code",
      "metadata": {
        "id": "wVLXs0ppQCs5",
        "colab_type": "code",
        "colab": {}
      },
      "source": [
        "#download the packages from nltk\n",
        "nltk.download('punkt',quiet=True)\n",
        "nltk.download('wordnet',quiet=True)"
      ],
      "execution_count": 0,
      "outputs": []
    },
    {
      "cell_type": "code",
      "metadata": {
        "id": "6RyLYbQZQF0B",
        "colab_type": "code",
        "colab": {}
      },
      "source": [
        "#get the article url\n",
        "article=Article('https://www.mayoclinic.org/diseases-conditions/chronic-kidney-disease/symptoms-causes/syc-20354521')\n",
        "article.download()\n",
        "article.parse()\n",
        "article.nlp()\n",
        "corpus=article.text\n",
        "\n",
        "#print the corpus/text\n",
        "print(corpus)"
      ],
      "execution_count": 0,
      "outputs": []
    },
    {
      "cell_type": "code",
      "metadata": {
        "id": "axM5MCF3QKNA",
        "colab_type": "code",
        "colab": {}
      },
      "source": [
        "#tokenization\n",
        "text=corpus\n",
        "sent_tokens=nltk.sent_tokenize(text) #coverting the text into a list of sentences\n",
        "\n",
        "#print the list of sentences\n",
        "print(sent_tokens)"
      ],
      "execution_count": 0,
      "outputs": []
    },
    {
      "cell_type": "code",
      "metadata": {
        "id": "ocyBN2TZQN0q",
        "colab_type": "code",
        "colab": {}
      },
      "source": [
        "#create a dictionary (key:value) pair to remove punctuations\n",
        "remove_punct_dict=dict((ord(punct),None) for punct in string.punctuation)\n",
        "\n",
        "#print the punctuations\n",
        "print(string.punctuation)\n",
        "\n",
        "#print the dictionary\n",
        "print(remove_punct_dict)"
      ],
      "execution_count": 0,
      "outputs": []
    },
    {
      "cell_type": "code",
      "metadata": {
        "id": "sf2wEfhqQSnP",
        "colab_type": "code",
        "colab": {}
      },
      "source": [
        "#create a function to return a list of lemmatized words after removing punctuations\n",
        "def LemNormalize(text):\n",
        "  return nltk.word_tokenize(text.lower().translate(remove_punct_dict))\n",
        "\n",
        "#print the tokenization text\n",
        "print(LemNormalize(text))"
      ],
      "execution_count": 0,
      "outputs": []
    },
    {
      "cell_type": "code",
      "metadata": {
        "id": "mGaK8dZPQVwr",
        "colab_type": "code",
        "colab": {}
      },
      "source": [
        "#keyword matching\n",
        "\n",
        "#greeting inputs\n",
        "GREETING_INPUTS=[\"hi\",\"hello\",\"hola\",\"greetings\",\"wassup\",\"hey\"]\n",
        "\n",
        "#greeting response back to the user\n",
        "GREETING_RESPONSES=[\"howdy\",\"hi\",\"hey\",\"what's good\",\"hello\",\"hey there\"]\n",
        "\n",
        "#function to return a random greeting response to a user's grreeting\n",
        "def greeting(sentence):\n",
        "  #if the user's input is a greeting ,then return a randomly chosen greeting response\n",
        "  for word in sentence.split():\n",
        "    if word.lower() in GREETING_INPUTS:\n",
        "      return random.choice(GREETING_RESPONSES)"
      ],
      "execution_count": 0,
      "outputs": []
    },
    {
      "cell_type": "code",
      "metadata": {
        "id": "7BGpUdpcQaJS",
        "colab_type": "code",
        "colab": {}
      },
      "source": [
        "#generate the response\n",
        "def response(user_response):\n",
        "\n",
        "\n",
        "  #the user's response/query\n",
        "  #user_response='what is chronic kidney disease'\n",
        "  user_response=user_response.lower() #make the response lower case\n",
        "\n",
        "  ###print the user's query/response\n",
        "  #print(user_response)\n",
        "\n",
        "  #set the chatbot's response to an empty string\n",
        "  robo_response=''\n",
        "\n",
        "  #append the user's response to the sentence list\n",
        "  sent_tokens.append(user_response)\n",
        "\n",
        "  ###print the sentence list after apending the user's response\n",
        "  #print(sent_tokens)\n",
        "\n",
        "  #create a Tfidfvectorizer object\n",
        "  Tfidfvec=TfidfVectorizer(tokenizer=LemNormalize,stop_words='english')\n",
        "\n",
        "  #convert the text to a matrix of TF-IDF features\n",
        "  tfidf=Tfidfvec.fit_transform(sent_tokens)\n",
        "\n",
        "  ###print the TFIDF features \n",
        "  #print(tfidf)\n",
        "\n",
        "  #get the measure of similarity(similarity scores)\n",
        "  vals=cosine_similarity(tfidf[-1],tfidf)\n",
        "\n",
        "  ###print the similarity scores\n",
        "  #print(vals)\n",
        "\n",
        "  #get the index of most similar sentence/text to the user's response\n",
        "  idx=vals.argsort()[0][-2]\n",
        "\n",
        "  #reduce the dimensionality of vals\n",
        "  flat=vals.flatten()\n",
        "\n",
        "  #sort the list in ascending order\n",
        "  flat.sort()\n",
        "\n",
        "  #get the most similar score to the user's response\n",
        "  score=flat[-2]\n",
        "\n",
        "  ###print the similarity score\n",
        "  #print(score)\n",
        "\n",
        "  #if the variable 'score' is 0 then their is no text similar to user's response\n",
        "  if (score==0):\n",
        "    robo_response=robo_response+\"I apologize ,I don't understand.\"\n",
        "  else:\n",
        "    robo_response=robo_response+sent_tokens[idx]\n",
        "  \n",
        "  ###print the chat bot response\n",
        "  #print( robo_response)\n",
        "\n",
        "  #remove the user's response from the sentence tokens list\n",
        "  sent_tokens.remove(user_response)\n",
        "\n",
        "  return robo_response"
      ],
      "execution_count": 0,
      "outputs": []
    },
    {
      "cell_type": "code",
      "metadata": {
        "id": "o-W89Bi5Q_iM",
        "colab_type": "code",
        "colab": {}
      },
      "source": [
        "flag =True\n",
        "print(\"DOCbot:I am doctor bot or DOCbot for short.I will answer your queries about Chronic Kidney Disease.If you want to exit,type Bye!\")\n",
        "while(flag==True):\n",
        "  user_response=input()\n",
        "  user_response=user_response.lower()\n",
        "  if(user_response!='bye'):\n",
        "    if(user_response=='thanks' or user_response=='thank you'):\n",
        "      flag=False\n",
        "      print(\"DOCbot:you are welcome\")\n",
        "    else:\n",
        "      if(greeting(user_response)!=None):\n",
        "        print(\"DOCbot:\"+greeting(user_response))\n",
        "      else:\n",
        "        print(\"DOCbot: \"+response(user_response))\n",
        "  else:\n",
        "    flag=False\n",
        "    print(\"DOCbot:chat with you later!\")"
      ],
      "execution_count": 0,
      "outputs": []
    }
  ]
}